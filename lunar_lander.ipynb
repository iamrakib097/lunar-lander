{
  "cells": [
    {
      "cell_type": "markdown",
      "source": [
        "## **Installing packages**"
      ],
      "metadata": {
        "id": "WG3lgyZ2MZXU"
      }
    },
    {
      "cell_type": "code",
      "source": [
        "!pip install pyvirtualdisplay\n",
        "!pip install swig\n",
        "!pip install gym[box2d]"
      ],
      "metadata": {
        "id": "n2KAPgxL3AxV",
        "colab": {
          "base_uri": "https://localhost:8080/"
        },
        "outputId": "257acb31-4ada-4a84-87a7-ed5d3c8a304b"
      },
      "execution_count": 1,
      "outputs": [
        {
          "output_type": "stream",
          "name": "stdout",
          "text": [
            "Collecting pyvirtualdisplay\n",
            "  Downloading PyVirtualDisplay-3.0-py3-none-any.whl (15 kB)\n",
            "Installing collected packages: pyvirtualdisplay\n",
            "Successfully installed pyvirtualdisplay-3.0\n",
            "Collecting swig\n",
            "  Downloading swig-4.1.1.post1-py2.py3-none-manylinux_2_5_x86_64.manylinux1_x86_64.whl (1.8 MB)\n",
            "\u001b[2K     \u001b[90m━━━━━━━━━━━━━━━━━━━━━━━━━━━━━━━━━━━━━━━━\u001b[0m \u001b[32m1.8/1.8 MB\u001b[0m \u001b[31m8.4 MB/s\u001b[0m eta \u001b[36m0:00:00\u001b[0m\n",
            "\u001b[?25hInstalling collected packages: swig\n",
            "Successfully installed swig-4.1.1.post1\n",
            "Requirement already satisfied: gym[box2d] in /usr/local/lib/python3.10/dist-packages (0.25.2)\n",
            "Requirement already satisfied: numpy>=1.18.0 in /usr/local/lib/python3.10/dist-packages (from gym[box2d]) (1.23.5)\n",
            "Requirement already satisfied: cloudpickle>=1.2.0 in /usr/local/lib/python3.10/dist-packages (from gym[box2d]) (2.2.1)\n",
            "Requirement already satisfied: gym-notices>=0.0.4 in /usr/local/lib/python3.10/dist-packages (from gym[box2d]) (0.0.8)\n",
            "Collecting box2d-py==2.3.5 (from gym[box2d])\n",
            "  Downloading box2d-py-2.3.5.tar.gz (374 kB)\n",
            "\u001b[2K     \u001b[90m━━━━━━━━━━━━━━━━━━━━━━━━━━━━━━━━━━━━━━━━\u001b[0m \u001b[32m374.4/374.4 kB\u001b[0m \u001b[31m1.7 MB/s\u001b[0m eta \u001b[36m0:00:00\u001b[0m\n",
            "\u001b[?25h  Preparing metadata (setup.py) ... \u001b[?25l\u001b[?25hdone\n",
            "Collecting pygame==2.1.0 (from gym[box2d])\n",
            "  Downloading pygame-2.1.0-cp310-cp310-manylinux_2_17_x86_64.manylinux2014_x86_64.whl (18.3 MB)\n",
            "\u001b[2K     \u001b[90m━━━━━━━━━━━━━━━━━━━━━━━━━━━━━━━━━━━━━━━━\u001b[0m \u001b[32m18.3/18.3 MB\u001b[0m \u001b[31m60.8 MB/s\u001b[0m eta \u001b[36m0:00:00\u001b[0m\n",
            "\u001b[?25hRequirement already satisfied: swig==4.* in /usr/local/lib/python3.10/dist-packages (from gym[box2d]) (4.1.1.post1)\n",
            "Building wheels for collected packages: box2d-py\n",
            "  Building wheel for box2d-py (setup.py) ... \u001b[?25l\u001b[?25hdone\n",
            "  Created wheel for box2d-py: filename=box2d_py-2.3.5-cp310-cp310-linux_x86_64.whl size=2373078 sha256=e6f5c334e89d163c526dc41da4c297729eec4ab074fe92759cbac4c1121bafff\n",
            "  Stored in directory: /root/.cache/pip/wheels/db/8f/6a/eaaadf056fba10a98d986f6dce954e6201ba3126926fc5ad9e\n",
            "Successfully built box2d-py\n",
            "Installing collected packages: box2d-py, pygame\n",
            "  Attempting uninstall: pygame\n",
            "    Found existing installation: pygame 2.5.2\n",
            "    Uninstalling pygame-2.5.2:\n",
            "      Successfully uninstalled pygame-2.5.2\n",
            "Successfully installed box2d-py-2.3.5 pygame-2.1.0\n"
          ]
        }
      ]
    },
    {
      "cell_type": "markdown",
      "source": [
        "## **Importing necessary libraries**"
      ],
      "metadata": {
        "id": "iRQSVWfS3Sj8"
      }
    },
    {
      "cell_type": "code",
      "source": [
        "import time\n",
        "from collections import deque, namedtuple\n",
        "import gym\n",
        "import numpy as np\n",
        "import PIL.Image\n",
        "import tensorflow as tf\n",
        "from pyvirtualdisplay import Display\n",
        "from tensorflow.keras import Sequential\n",
        "from tensorflow.keras.layers import Dense, Input\n",
        "from tensorflow.keras.losses import MSE\n",
        "from tensorflow.keras.optimizers import Adam\n",
        "import base64\n",
        "import random\n",
        "import imageio\n",
        "import IPython\n",
        "import matplotlib.pyplot as plt\n",
        "import matplotlib.ticker as mticker\n",
        "import pandas as pd\n"
      ],
      "metadata": {
        "id": "Q1id71L02_ge"
      },
      "execution_count": 2,
      "outputs": []
    },
    {
      "cell_type": "markdown",
      "source": [
        "## **Utils Functions**"
      ],
      "metadata": {
        "id": "4d11zmko3rCE"
      }
    },
    {
      "cell_type": "code",
      "source": [
        "def plot_history(point_history, **kwargs):\n",
        "    lower_limit = 0\n",
        "    upper_limit = len(point_history)\n",
        "    window_size = (upper_limit * 10) // 100\n",
        "\n",
        "    plot_rolling_mean_only = False\n",
        "    plot_data_only = False\n",
        "\n",
        "    if kwargs:\n",
        "        window_size = kwargs.get(\"window_size\", window_size)\n",
        "        lower_limit = kwargs.get(\"lower_limit\", lower_limit)\n",
        "        upper_limit = kwargs.get(\"upper_limit\", upper_limit)\n",
        "        plot_rolling_mean_only = kwargs.get(\"plot_rolling_mean_only\", False)\n",
        "        plot_data_only = kwargs.get(\"plot_data_only\", False)\n",
        "\n",
        "    points = point_history[lower_limit:upper_limit]\n",
        "    episode_num = [x for x in range(lower_limit, upper_limit)]\n",
        "    rolling_mean = pd.DataFrame(points).rolling(window_size).mean()\n",
        "\n",
        "    plt.figure(figsize=(10, 7), facecolor=\"white\")\n",
        "\n",
        "    if plot_data_only:\n",
        "        plt.plot(episode_num, points, linewidth=1, color=\"cyan\")\n",
        "    elif plot_rolling_mean_only:\n",
        "        plt.plot(episode_num, rolling_mean, linewidth=2, color=\"magenta\")\n",
        "    else:\n",
        "        plt.plot(episode_num, points, linewidth=1, color=\"cyan\")\n",
        "        plt.plot(episode_num, rolling_mean, linewidth=2, color=\"magenta\")\n",
        "\n",
        "    text_color = \"black\"\n",
        "    ax = plt.gca()\n",
        "    ax.set_facecolor(\"black\")\n",
        "    plt.grid()\n",
        "    plt.xlabel(\"Episode\", color=text_color, fontsize=30)\n",
        "    plt.ylabel(\"Total Points\", color=text_color, fontsize=30)\n",
        "    yNumFmt = mticker.StrMethodFormatter(\"{x:,}\")\n",
        "    ax.yaxis.set_major_formatter(yNumFmt)\n",
        "    ax.tick_params(axis=\"x\", colors=text_color)\n",
        "    ax.tick_params(axis=\"y\", colors=text_color)\n",
        "    plt.show()\n",
        "\n",
        "\n",
        "\n",
        "def embed_mp4(filename):\n",
        "    video = open(filename, \"rb\").read()\n",
        "    b64 = base64.b64encode(video)\n",
        "    tag = \"\"\"\n",
        "    <video width=\"840\" height=\"480\" controls>\n",
        "    <source src=\"data:video/mp4;base64,{0}\" type=\"video/mp4\">\n",
        "    Your browser does not support the video tag.\n",
        "    </video>\"\"\".format(\n",
        "        b64.decode()\n",
        "    )\n",
        "    return IPython.display.HTML(tag)\n",
        "\n",
        "def create_video(filename, env, q_network, fps=30):\n",
        "    with imageio.get_writer(filename, fps=fps) as video:\n",
        "        done = False\n",
        "        state = env.reset()\n",
        "        frame = env.render(mode=\"rgb_array\")\n",
        "        video.append_data(frame)\n",
        "        while not done:\n",
        "            state = np.expand_dims(state, axis=0)\n",
        "            q_values = q_network(state)\n",
        "            action = np.argmax(q_values.numpy()[0])\n",
        "            state, _, done, _ = env.step(action)\n",
        "            frame = env.render(mode=\"rgb_array\")\n",
        "            video.append_data(frame)"
      ],
      "metadata": {
        "id": "w2_6t6va29gm",
        "colab": {
          "base_uri": "https://localhost:8080/"
        },
        "outputId": "f1364912-d38f-446c-c39b-355ce82d220f"
      },
      "execution_count": 3,
      "outputs": [
        {
          "output_type": "stream",
          "name": "stderr",
          "text": [
            "/usr/local/lib/python3.10/dist-packages/ipykernel/ipkernel.py:283: DeprecationWarning: `should_run_async` will not call `transform_cell` automatically in the future. Please pass the result to `transformed_cell` argument and any exception that happen during thetransform in `preprocessing_exc_tuple` in IPython 7.17 and above.\n",
            "  and should_run_async(code)\n"
          ]
        }
      ]
    },
    {
      "cell_type": "markdown",
      "source": [
        "## **Model and Agent necessary function**"
      ],
      "metadata": {
        "id": "US6Pe1Ac3yiF"
      }
    },
    {
      "cell_type": "code",
      "source": [
        "ALPHA = 1e-3\n",
        "\n",
        "env = gym.make('LunarLander-v2')\n",
        "env.reset()\n",
        "PIL.Image.fromarray(env.render(mode='rgb_array'))\n",
        "state_size = env.observation_space.shape\n",
        "num_actions = env.action_space.n\n",
        "\n",
        "print('State Shape:', state_size)\n",
        "print('Number of actions:', num_actions)\n",
        "current_state = env.reset()\n",
        "\n",
        "\n",
        "q_network = Sequential([\n",
        "    Input(shape=state_size),\n",
        "    Dense(units=64, activation='relu'),\n",
        "    Dense(units=64, activation='relu'),\n",
        "    Dense(units=num_actions, activation='linear'),\n",
        "])\n",
        "\n",
        "target_q_network = Sequential([\n",
        "    Input(shape=state_size),\n",
        "    Dense(units=64, activation='relu'),\n",
        "    Dense(units=64, activation='relu'),\n",
        "    Dense(units=num_actions, activation='linear'),\n",
        "])\n",
        "\n",
        "optimizer = Adam(learning_rate=ALPHA)\n",
        "\n",
        "experience = namedtuple(\"Experience\", field_names=[\"state\", \"action\", \"reward\", \"next_state\", \"done\"])\n",
        "\n",
        "@tf.function\n",
        "def compute_loss(experiences, gamma, q_network, target_q_network):\n",
        "    states, actions, rewards, next_states, done_vals = experiences\n",
        "    max_qsa = tf.reduce_max(target_q_network(next_states), axis=-1)\n",
        "    y_targets = rewards + gamma * max_qsa * (1 - done_vals)\n",
        "    q_values = q_network(states)\n",
        "    q_values = tf.gather_nd(q_values, tf.stack([tf.range(q_values.shape[0]),\n",
        "                                                tf.cast(actions, tf.int32)], axis=1))\n",
        "    loss = MSE(y_targets, q_values)\n",
        "    return loss\n",
        "\n",
        "@tf.function\n",
        "def agent_learn(experiences, gamma):\n",
        "    with tf.GradientTape() as tape:\n",
        "        loss = compute_loss(experiences, gamma, q_network, target_q_network)\n",
        "\n",
        "    gradients = tape.gradient(loss, q_network.trainable_variables)\n",
        "    optimizer.apply_gradients(zip(gradients, q_network.trainable_variables))\n",
        "    update_target_network(q_network, target_q_network)\n",
        "\n",
        "\n",
        "\n",
        "def get_experiences(memory_buffer):\n",
        "    experiences = random.sample(memory_buffer, k=MINIBATCH_SIZE)\n",
        "    states = tf.convert_to_tensor(\n",
        "        np.array([e.state for e in experiences if e is not None]), dtype=tf.float32\n",
        "    )\n",
        "    actions = tf.convert_to_tensor(\n",
        "        np.array([e.action for e in experiences if e is not None]), dtype=tf.float32\n",
        "    )\n",
        "    rewards = tf.convert_to_tensor(\n",
        "        np.array([e.reward for e in experiences if e is not None]), dtype=tf.float32\n",
        "    )\n",
        "    next_states = tf.convert_to_tensor(\n",
        "        np.array([e.next_state for e in experiences if e is not None]), dtype=tf.float32\n",
        "    )\n",
        "    done_vals = tf.convert_to_tensor(\n",
        "        np.array([e.done for e in experiences if e is not None]).astype(np.uint8),\n",
        "        dtype=tf.float32,\n",
        "    )\n",
        "    return (states, actions, rewards, next_states, done_vals)\n",
        "\n",
        "def check_update_conditions(t, num_steps_upd, memory_buffer):\n",
        "    if (t + 1) % num_steps_upd == 0 and len(memory_buffer) > MINIBATCH_SIZE:\n",
        "        return True\n",
        "    else:\n",
        "        return False\n",
        "\n",
        "def get_new_eps(epsilon):\n",
        "    return max(E_MIN, E_DECAY * epsilon)\n",
        "\n",
        "def get_action(q_values, epsilon=0.0):\n",
        "    if random.random() > epsilon:\n",
        "        return np.argmax(q_values.numpy()[0])\n",
        "    else:\n",
        "        return random.choice(np.arange(4))\n",
        "\n",
        "def update_target_network(q_network, target_q_network):\n",
        "    for target_weights, q_net_weights in zip(\n",
        "        target_q_network.weights, q_network.weights\n",
        "    ):\n",
        "        target_weights.assign(TAU * q_net_weights + (1.0 - TAU) * target_weights)"
      ],
      "metadata": {
        "id": "bp15S4Kr33zs",
        "colab": {
          "base_uri": "https://localhost:8080/"
        },
        "outputId": "a176ae89-fa8f-43ac-c83e-0992aebaf23f"
      },
      "execution_count": 4,
      "outputs": [
        {
          "output_type": "stream",
          "name": "stderr",
          "text": [
            "/usr/local/lib/python3.10/dist-packages/gym/core.py:317: DeprecationWarning: \u001b[33mWARN: Initializing wrapper in old step API which returns one bool instead of two. It is recommended to set `new_step_api=True` to use new step API. This will be the default behaviour in future.\u001b[0m\n",
            "  deprecation(\n",
            "/usr/local/lib/python3.10/dist-packages/gym/wrappers/step_api_compatibility.py:39: DeprecationWarning: \u001b[33mWARN: Initializing environment in old step API which returns one bool instead of two. It is recommended to set `new_step_api=True` to use new step API. This will be the default behaviour in future.\u001b[0m\n",
            "  deprecation(\n",
            "/usr/local/lib/python3.10/dist-packages/gym/core.py:43: DeprecationWarning: \u001b[33mWARN: The argument mode in render method is deprecated; use render_mode during environment initialization instead.\n",
            "See here for more information: https://www.gymlibrary.ml/content/api/\u001b[0m\n",
            "  deprecation(\n"
          ]
        },
        {
          "output_type": "stream",
          "name": "stdout",
          "text": [
            "State Shape: (8,)\n",
            "Number of actions: 4\n"
          ]
        }
      ]
    },
    {
      "cell_type": "markdown",
      "source": [
        "## **Training**"
      ],
      "metadata": {
        "id": "HBGI0TRS4d8r"
      }
    },
    {
      "cell_type": "code",
      "execution_count": 6,
      "metadata": {
        "deletable": false,
        "editable": false,
        "id": "ZqggE2Vs6msT",
        "colab": {
          "base_uri": "https://localhost:8080/",
          "height": 1000
        },
        "outputId": "53da7bb2-6a5a-428d-fa51-5cfacf96625f"
      },
      "outputs": [
        {
          "output_type": "stream",
          "name": "stdout",
          "text": [
            "Episode 99 | Total point average of the last 100 episodes: -153.17"
          ]
        },
        {
          "output_type": "stream",
          "name": "stderr",
          "text": [
            "WARNING:imageio_ffmpeg:IMAGEIO FFMPEG_WRITER WARNING: input image is not divisible by macro_block_size=16, resizing from (600, 400) to (608, 400) to ensure video compatibility with most codecs and players. To prevent resizing, make your input image divisible by the macro_block_size or set the macro_block_size to 1 (risking incompatibility).\n"
          ]
        },
        {
          "output_type": "stream",
          "name": "stdout",
          "text": [
            "Episode 100 | Total point average of the last 100 episodes: -153.07\n",
            "Episode 199 | Total point average of the last 100 episodes: -78.38"
          ]
        },
        {
          "output_type": "stream",
          "name": "stderr",
          "text": [
            "WARNING:imageio_ffmpeg:IMAGEIO FFMPEG_WRITER WARNING: input image is not divisible by macro_block_size=16, resizing from (600, 400) to (608, 400) to ensure video compatibility with most codecs and players. To prevent resizing, make your input image divisible by the macro_block_size or set the macro_block_size to 1 (risking incompatibility).\n"
          ]
        },
        {
          "output_type": "stream",
          "name": "stdout",
          "text": [
            "Episode 200 | Total point average of the last 100 episodes: -78.55\n",
            "Episode 299 | Total point average of the last 100 episodes: -42.82"
          ]
        },
        {
          "output_type": "stream",
          "name": "stderr",
          "text": [
            "WARNING:imageio_ffmpeg:IMAGEIO FFMPEG_WRITER WARNING: input image is not divisible by macro_block_size=16, resizing from (600, 400) to (608, 400) to ensure video compatibility with most codecs and players. To prevent resizing, make your input image divisible by the macro_block_size or set the macro_block_size to 1 (risking incompatibility).\n"
          ]
        },
        {
          "output_type": "stream",
          "name": "stdout",
          "text": [
            "Episode 300 | Total point average of the last 100 episodes: -41.68\n",
            "Episode 399 | Total point average of the last 100 episodes: -11.94"
          ]
        },
        {
          "output_type": "stream",
          "name": "stderr",
          "text": [
            "WARNING:imageio_ffmpeg:IMAGEIO FFMPEG_WRITER WARNING: input image is not divisible by macro_block_size=16, resizing from (600, 400) to (608, 400) to ensure video compatibility with most codecs and players. To prevent resizing, make your input image divisible by the macro_block_size or set the macro_block_size to 1 (risking incompatibility).\n"
          ]
        },
        {
          "output_type": "stream",
          "name": "stdout",
          "text": [
            "Episode 400 | Total point average of the last 100 episodes: -11.35\n",
            "Episode 499 | Total point average of the last 100 episodes: 102.54"
          ]
        },
        {
          "output_type": "stream",
          "name": "stderr",
          "text": [
            "WARNING:imageio_ffmpeg:IMAGEIO FFMPEG_WRITER WARNING: input image is not divisible by macro_block_size=16, resizing from (600, 400) to (608, 400) to ensure video compatibility with most codecs and players. To prevent resizing, make your input image divisible by the macro_block_size or set the macro_block_size to 1 (risking incompatibility).\n"
          ]
        },
        {
          "output_type": "stream",
          "name": "stdout",
          "text": [
            "Episode 500 | Total point average of the last 100 episodes: 104.46\n",
            "Episode 599 | Total point average of the last 100 episodes: 200.02"
          ]
        },
        {
          "output_type": "stream",
          "name": "stderr",
          "text": [
            "WARNING:imageio_ffmpeg:IMAGEIO FFMPEG_WRITER WARNING: input image is not divisible by macro_block_size=16, resizing from (600, 400) to (608, 400) to ensure video compatibility with most codecs and players. To prevent resizing, make your input image divisible by the macro_block_size or set the macro_block_size to 1 (risking incompatibility).\n"
          ]
        },
        {
          "output_type": "stream",
          "name": "stdout",
          "text": [
            "Episode 600 | Total point average of the last 100 episodes: 200.06\n",
            "Episode 699 | Total point average of the last 100 episodes: 231.35"
          ]
        },
        {
          "output_type": "stream",
          "name": "stderr",
          "text": [
            "WARNING:imageio_ffmpeg:IMAGEIO FFMPEG_WRITER WARNING: input image is not divisible by macro_block_size=16, resizing from (600, 400) to (608, 400) to ensure video compatibility with most codecs and players. To prevent resizing, make your input image divisible by the macro_block_size or set the macro_block_size to 1 (risking incompatibility).\n"
          ]
        },
        {
          "output_type": "stream",
          "name": "stdout",
          "text": [
            "Episode 700 | Total point average of the last 100 episodes: 232.13\n",
            "Episode 799 | Total point average of the last 100 episodes: 239.26"
          ]
        },
        {
          "output_type": "stream",
          "name": "stderr",
          "text": [
            "WARNING:imageio_ffmpeg:IMAGEIO FFMPEG_WRITER WARNING: input image is not divisible by macro_block_size=16, resizing from (600, 400) to (608, 400) to ensure video compatibility with most codecs and players. To prevent resizing, make your input image divisible by the macro_block_size or set the macro_block_size to 1 (risking incompatibility).\n"
          ]
        },
        {
          "output_type": "stream",
          "name": "stdout",
          "text": [
            "Episode 800 | Total point average of the last 100 episodes: 238.94\n",
            "Episode 899 | Total point average of the last 100 episodes: 258.69"
          ]
        },
        {
          "output_type": "stream",
          "name": "stderr",
          "text": [
            "WARNING:imageio_ffmpeg:IMAGEIO FFMPEG_WRITER WARNING: input image is not divisible by macro_block_size=16, resizing from (600, 400) to (608, 400) to ensure video compatibility with most codecs and players. To prevent resizing, make your input image divisible by the macro_block_size or set the macro_block_size to 1 (risking incompatibility).\n"
          ]
        },
        {
          "output_type": "stream",
          "name": "stdout",
          "text": [
            "Episode 900 | Total point average of the last 100 episodes: 258.72\n",
            "Episode 999 | Total point average of the last 100 episodes: 263.28"
          ]
        },
        {
          "output_type": "stream",
          "name": "stderr",
          "text": [
            "WARNING:imageio_ffmpeg:IMAGEIO FFMPEG_WRITER WARNING: input image is not divisible by macro_block_size=16, resizing from (600, 400) to (608, 400) to ensure video compatibility with most codecs and players. To prevent resizing, make your input image divisible by the macro_block_size or set the macro_block_size to 1 (risking incompatibility).\n"
          ]
        },
        {
          "output_type": "stream",
          "name": "stdout",
          "text": [
            "Episode 1000 | Total point average of the last 100 episodes: 263.45\n",
            "Episode 1099 | Total point average of the last 100 episodes: 263.46"
          ]
        },
        {
          "output_type": "stream",
          "name": "stderr",
          "text": [
            "WARNING:imageio_ffmpeg:IMAGEIO FFMPEG_WRITER WARNING: input image is not divisible by macro_block_size=16, resizing from (600, 400) to (608, 400) to ensure video compatibility with most codecs and players. To prevent resizing, make your input image divisible by the macro_block_size or set the macro_block_size to 1 (risking incompatibility).\n"
          ]
        },
        {
          "output_type": "stream",
          "name": "stdout",
          "text": [
            "Episode 1100 | Total point average of the last 100 episodes: 263.43\n",
            "Episode 1199 | Total point average of the last 100 episodes: 262.97"
          ]
        },
        {
          "output_type": "stream",
          "name": "stderr",
          "text": [
            "WARNING:imageio_ffmpeg:IMAGEIO FFMPEG_WRITER WARNING: input image is not divisible by macro_block_size=16, resizing from (600, 400) to (608, 400) to ensure video compatibility with most codecs and players. To prevent resizing, make your input image divisible by the macro_block_size or set the macro_block_size to 1 (risking incompatibility).\n"
          ]
        },
        {
          "output_type": "stream",
          "name": "stdout",
          "text": [
            "Episode 1200 | Total point average of the last 100 episodes: 262.96\n",
            "Episode 1299 | Total point average of the last 100 episodes: 267.60"
          ]
        },
        {
          "output_type": "stream",
          "name": "stderr",
          "text": [
            "WARNING:imageio_ffmpeg:IMAGEIO FFMPEG_WRITER WARNING: input image is not divisible by macro_block_size=16, resizing from (600, 400) to (608, 400) to ensure video compatibility with most codecs and players. To prevent resizing, make your input image divisible by the macro_block_size or set the macro_block_size to 1 (risking incompatibility).\n"
          ]
        },
        {
          "output_type": "stream",
          "name": "stdout",
          "text": [
            "Episode 1300 | Total point average of the last 100 episodes: 267.89\n",
            "Episode 1399 | Total point average of the last 100 episodes: 252.92"
          ]
        },
        {
          "output_type": "stream",
          "name": "stderr",
          "text": [
            "WARNING:imageio_ffmpeg:IMAGEIO FFMPEG_WRITER WARNING: input image is not divisible by macro_block_size=16, resizing from (600, 400) to (608, 400) to ensure video compatibility with most codecs and players. To prevent resizing, make your input image divisible by the macro_block_size or set the macro_block_size to 1 (risking incompatibility).\n"
          ]
        },
        {
          "output_type": "stream",
          "name": "stdout",
          "text": [
            "Episode 1400 | Total point average of the last 100 episodes: 252.69\n",
            "Episode 1499 | Total point average of the last 100 episodes: 275.24"
          ]
        },
        {
          "output_type": "stream",
          "name": "stderr",
          "text": [
            "WARNING:imageio_ffmpeg:IMAGEIO FFMPEG_WRITER WARNING: input image is not divisible by macro_block_size=16, resizing from (600, 400) to (608, 400) to ensure video compatibility with most codecs and players. To prevent resizing, make your input image divisible by the macro_block_size or set the macro_block_size to 1 (risking incompatibility).\n"
          ]
        },
        {
          "output_type": "stream",
          "name": "stdout",
          "text": [
            "Episode 1500 | Total point average of the last 100 episodes: 275.35\n",
            "Episode 1599 | Total point average of the last 100 episodes: 273.47"
          ]
        },
        {
          "output_type": "stream",
          "name": "stderr",
          "text": [
            "WARNING:imageio_ffmpeg:IMAGEIO FFMPEG_WRITER WARNING: input image is not divisible by macro_block_size=16, resizing from (600, 400) to (608, 400) to ensure video compatibility with most codecs and players. To prevent resizing, make your input image divisible by the macro_block_size or set the macro_block_size to 1 (risking incompatibility).\n"
          ]
        },
        {
          "output_type": "stream",
          "name": "stdout",
          "text": [
            "Episode 1600 | Total point average of the last 100 episodes: 273.35\n",
            "Episode 1699 | Total point average of the last 100 episodes: 252.13"
          ]
        },
        {
          "output_type": "stream",
          "name": "stderr",
          "text": [
            "WARNING:imageio_ffmpeg:IMAGEIO FFMPEG_WRITER WARNING: input image is not divisible by macro_block_size=16, resizing from (600, 400) to (608, 400) to ensure video compatibility with most codecs and players. To prevent resizing, make your input image divisible by the macro_block_size or set the macro_block_size to 1 (risking incompatibility).\n"
          ]
        },
        {
          "output_type": "stream",
          "name": "stdout",
          "text": [
            "Episode 1700 | Total point average of the last 100 episodes: 252.14\n",
            "Episode 1799 | Total point average of the last 100 episodes: 269.18"
          ]
        },
        {
          "output_type": "stream",
          "name": "stderr",
          "text": [
            "WARNING:imageio_ffmpeg:IMAGEIO FFMPEG_WRITER WARNING: input image is not divisible by macro_block_size=16, resizing from (600, 400) to (608, 400) to ensure video compatibility with most codecs and players. To prevent resizing, make your input image divisible by the macro_block_size or set the macro_block_size to 1 (risking incompatibility).\n"
          ]
        },
        {
          "output_type": "stream",
          "name": "stdout",
          "text": [
            "Episode 1800 | Total point average of the last 100 episodes: 269.16\n",
            "Episode 1899 | Total point average of the last 100 episodes: 280.45"
          ]
        },
        {
          "output_type": "stream",
          "name": "stderr",
          "text": [
            "WARNING:imageio_ffmpeg:IMAGEIO FFMPEG_WRITER WARNING: input image is not divisible by macro_block_size=16, resizing from (600, 400) to (608, 400) to ensure video compatibility with most codecs and players. To prevent resizing, make your input image divisible by the macro_block_size or set the macro_block_size to 1 (risking incompatibility).\n"
          ]
        },
        {
          "output_type": "stream",
          "name": "stdout",
          "text": [
            "Episode 1900 | Total point average of the last 100 episodes: 280.51\n",
            "Episode 1999 | Total point average of the last 100 episodes: 268.28"
          ]
        },
        {
          "output_type": "stream",
          "name": "stderr",
          "text": [
            "WARNING:imageio_ffmpeg:IMAGEIO FFMPEG_WRITER WARNING: input image is not divisible by macro_block_size=16, resizing from (600, 400) to (608, 400) to ensure video compatibility with most codecs and players. To prevent resizing, make your input image divisible by the macro_block_size or set the macro_block_size to 1 (risking incompatibility).\n"
          ]
        },
        {
          "output_type": "stream",
          "name": "stdout",
          "text": [
            "\rEpisode 2000 | Total point average of the last 100 episodes: 268.45\rEpisode 2000 | Total point average of the last 100 episodes: 268.45\n"
          ]
        },
        {
          "output_type": "stream",
          "name": "stderr",
          "text": [
            "/usr/local/lib/python3.10/dist-packages/keras/src/engine/training.py:3103: UserWarning: You are saving your model as an HDF5 file via `model.save()`. This file format is considered legacy. We recommend using instead the native Keras format, e.g. `model.save('my_model.keras')`.\n",
            "  saving_api.save_model(\n",
            "WARNING:tensorflow:Compiled the loaded model, but the compiled metrics have yet to be built. `model.compile_metrics` will be empty until you train or evaluate the model.\n"
          ]
        },
        {
          "output_type": "stream",
          "name": "stdout",
          "text": [
            "\n",
            "Total Runtime: 3353.36 s (55.89 min)\n"
          ]
        },
        {
          "output_type": "display_data",
          "data": {
            "text/plain": [
              "<Figure size 1000x700 with 1 Axes>"
            ],
            "image/png": "[encoded data removed]"
          },
          "metadata": {}
        }
      ],
      "source": [
        "SEED = 0\n",
        "MINIBATCH_SIZE = 64\n",
        "TAU = 1e-3\n",
        "E_DECAY = 0.995\n",
        "E_MIN = 0.01\n",
        "MEMORY_SIZE = 100_000\n",
        "GAMMA = 0.995\n",
        "NUM_STEPS_FOR_UPDATE = 4\n",
        "num_episodes = 2000\n",
        "max_num_timesteps = 1000\n",
        "total_point_history = []\n",
        "num_p_av = 100\n",
        "epsilon = 1.0\n",
        "random.seed(SEED)\n",
        "\n",
        "start = time.time()\n",
        "memory_buffer = deque(maxlen=MEMORY_SIZE)\n",
        "target_q_network.set_weights(q_network.get_weights())\n",
        "\n",
        "for i in range(num_episodes):\n",
        "    state = env.reset()\n",
        "    total_points = 0\n",
        "\n",
        "    for t in range(max_num_timesteps):\n",
        "        state_qn = np.expand_dims(state, axis=0)\n",
        "        q_values = q_network(state_qn)\n",
        "        action = get_action(q_values, epsilon)\n",
        "\n",
        "        next_state, reward, done, _ = env.step(action)\n",
        "\n",
        "        memory_buffer.append(experience(state, action, reward, next_state, done))\n",
        "\n",
        "        update = check_update_conditions(t, NUM_STEPS_FOR_UPDATE, memory_buffer)\n",
        "\n",
        "        if update:\n",
        "            experiences = get_experiences(memory_buffer)\n",
        "            agent_learn(experiences, GAMMA)\n",
        "\n",
        "        state = next_state.copy()\n",
        "        total_points += reward\n",
        "\n",
        "        if done:\n",
        "            break\n",
        "\n",
        "    total_point_history.append(total_points)\n",
        "    av_latest_points = np.mean(total_point_history[-num_p_av:])\n",
        "    epsilon = get_new_eps(epsilon)\n",
        "\n",
        "    print(f\"\\rEpisode {i+1} | Total point average of the last {num_p_av} episodes: {av_latest_points:.2f}\", end=\"\")\n",
        "    if (i+1) % num_p_av == 0:\n",
        "        print(f\"\\rEpisode {i+1} | Total point average of the last {num_p_av} episodes: {av_latest_points:.2f}\")\n",
        "        filename = f\"./lunar_lander{i+1}.mp4\"\n",
        "        create_video(filename, env, q_network)\n",
        "        embed_mp4(filename)\n",
        "q_network.save('lunar_lander_model.h5')\n",
        "tot_time = time.time() - start\n",
        "print(f\"\\nTotal Runtime: {tot_time:.2f} s ({(tot_time/60):.2f} min)\")\n",
        "plot_history(total_point_history)\n",
        "import logging\n",
        "logging.getLogger().setLevel(logging.ERROR)\n",
        "\n"
      ]
    }
  ],
  "metadata": {
    "accelerator": "GPU",
    "colab": {
      "provenance": [],
      "gpuType": "T4"
    },
    "kernelspec": {
      "display_name": "Python 3",
      "name": "python3"
    },
    "language_info": {
      "codemirror_mode": {
        "name": "ipython",
        "version": 3
      },
      "file_extension": ".py",
      "mimetype": "text/x-python",
      "name": "python",
      "nbconvert_exporter": "python",
      "pygments_lexer": "ipython3",
      "version": "3.7.6"
    }
  },
  "nbformat": 4,
  "nbformat_minor": 0
}